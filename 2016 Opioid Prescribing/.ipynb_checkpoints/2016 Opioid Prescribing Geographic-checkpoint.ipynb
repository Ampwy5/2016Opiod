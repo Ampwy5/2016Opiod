{
 "cells": [
  {
   "cell_type": "code",
   "execution_count": 6,
   "metadata": {},
   "outputs": [
    {
     "ename": "ModuleNotFoundError",
     "evalue": "No module named 'MySQLdb'",
     "output_type": "error",
     "traceback": [
      "\u001b[0;31m---------------------------------------------------------------------------\u001b[0m",
      "\u001b[0;31mModuleNotFoundError\u001b[0m                       Traceback (most recent call last)",
      "\u001b[0;32m<ipython-input-6-3a13458d874e>\u001b[0m in \u001b[0;36m<module>\u001b[0;34m()\u001b[0m\n\u001b[1;32m      5\u001b[0m \u001b[0;34m\u001b[0m\u001b[0m\n\u001b[1;32m      6\u001b[0m \u001b[0mrds_connection_string\u001b[0m \u001b[0;34m=\u001b[0m \u001b[0;34m\"<root>:<AFg167769>@127.0.0.1/Opioid_db\"\u001b[0m\u001b[0;34m\u001b[0m\u001b[0m\n\u001b[0;32m----> 7\u001b[0;31m \u001b[0mengine\u001b[0m \u001b[0;34m=\u001b[0m \u001b[0mcreate_engine\u001b[0m\u001b[0;34m(\u001b[0m\u001b[0;34mf'mysql://{rds_connection_string}'\u001b[0m\u001b[0;34m)\u001b[0m\u001b[0;34m\u001b[0m\u001b[0m\n\u001b[0m",
      "\u001b[0;32m~/anaconda3/lib/python3.6/site-packages/sqlalchemy/engine/__init__.py\u001b[0m in \u001b[0;36mcreate_engine\u001b[0;34m(*args, **kwargs)\u001b[0m\n\u001b[1;32m    422\u001b[0m     \u001b[0mstrategy\u001b[0m \u001b[0;34m=\u001b[0m \u001b[0mkwargs\u001b[0m\u001b[0;34m.\u001b[0m\u001b[0mpop\u001b[0m\u001b[0;34m(\u001b[0m\u001b[0;34m'strategy'\u001b[0m\u001b[0;34m,\u001b[0m \u001b[0mdefault_strategy\u001b[0m\u001b[0;34m)\u001b[0m\u001b[0;34m\u001b[0m\u001b[0m\n\u001b[1;32m    423\u001b[0m     \u001b[0mstrategy\u001b[0m \u001b[0;34m=\u001b[0m \u001b[0mstrategies\u001b[0m\u001b[0;34m.\u001b[0m\u001b[0mstrategies\u001b[0m\u001b[0;34m[\u001b[0m\u001b[0mstrategy\u001b[0m\u001b[0;34m]\u001b[0m\u001b[0;34m\u001b[0m\u001b[0m\n\u001b[0;32m--> 424\u001b[0;31m     \u001b[0;32mreturn\u001b[0m \u001b[0mstrategy\u001b[0m\u001b[0;34m.\u001b[0m\u001b[0mcreate\u001b[0m\u001b[0;34m(\u001b[0m\u001b[0;34m*\u001b[0m\u001b[0margs\u001b[0m\u001b[0;34m,\u001b[0m \u001b[0;34m**\u001b[0m\u001b[0mkwargs\u001b[0m\u001b[0;34m)\u001b[0m\u001b[0;34m\u001b[0m\u001b[0m\n\u001b[0m\u001b[1;32m    425\u001b[0m \u001b[0;34m\u001b[0m\u001b[0m\n\u001b[1;32m    426\u001b[0m \u001b[0;34m\u001b[0m\u001b[0m\n",
      "\u001b[0;32m~/anaconda3/lib/python3.6/site-packages/sqlalchemy/engine/strategies.py\u001b[0m in \u001b[0;36mcreate\u001b[0;34m(self, name_or_url, **kwargs)\u001b[0m\n\u001b[1;32m     79\u001b[0m                 \u001b[0;32mif\u001b[0m \u001b[0mk\u001b[0m \u001b[0;32min\u001b[0m \u001b[0mkwargs\u001b[0m\u001b[0;34m:\u001b[0m\u001b[0;34m\u001b[0m\u001b[0m\n\u001b[1;32m     80\u001b[0m                     \u001b[0mdbapi_args\u001b[0m\u001b[0;34m[\u001b[0m\u001b[0mk\u001b[0m\u001b[0;34m]\u001b[0m \u001b[0;34m=\u001b[0m \u001b[0mpop_kwarg\u001b[0m\u001b[0;34m(\u001b[0m\u001b[0mk\u001b[0m\u001b[0;34m)\u001b[0m\u001b[0;34m\u001b[0m\u001b[0m\n\u001b[0;32m---> 81\u001b[0;31m             \u001b[0mdbapi\u001b[0m \u001b[0;34m=\u001b[0m \u001b[0mdialect_cls\u001b[0m\u001b[0;34m.\u001b[0m\u001b[0mdbapi\u001b[0m\u001b[0;34m(\u001b[0m\u001b[0;34m**\u001b[0m\u001b[0mdbapi_args\u001b[0m\u001b[0;34m)\u001b[0m\u001b[0;34m\u001b[0m\u001b[0m\n\u001b[0m\u001b[1;32m     82\u001b[0m \u001b[0;34m\u001b[0m\u001b[0m\n\u001b[1;32m     83\u001b[0m         \u001b[0mdialect_args\u001b[0m\u001b[0;34m[\u001b[0m\u001b[0;34m'dbapi'\u001b[0m\u001b[0;34m]\u001b[0m \u001b[0;34m=\u001b[0m \u001b[0mdbapi\u001b[0m\u001b[0;34m\u001b[0m\u001b[0m\n",
      "\u001b[0;32m~/anaconda3/lib/python3.6/site-packages/sqlalchemy/dialects/mysql/mysqldb.py\u001b[0m in \u001b[0;36mdbapi\u001b[0;34m(cls)\u001b[0m\n\u001b[1;32m    100\u001b[0m     \u001b[0;34m@\u001b[0m\u001b[0mclassmethod\u001b[0m\u001b[0;34m\u001b[0m\u001b[0m\n\u001b[1;32m    101\u001b[0m     \u001b[0;32mdef\u001b[0m \u001b[0mdbapi\u001b[0m\u001b[0;34m(\u001b[0m\u001b[0mcls\u001b[0m\u001b[0;34m)\u001b[0m\u001b[0;34m:\u001b[0m\u001b[0;34m\u001b[0m\u001b[0m\n\u001b[0;32m--> 102\u001b[0;31m         \u001b[0;32mreturn\u001b[0m \u001b[0m__import__\u001b[0m\u001b[0;34m(\u001b[0m\u001b[0;34m'MySQLdb'\u001b[0m\u001b[0;34m)\u001b[0m\u001b[0;34m\u001b[0m\u001b[0m\n\u001b[0m\u001b[1;32m    103\u001b[0m \u001b[0;34m\u001b[0m\u001b[0m\n\u001b[1;32m    104\u001b[0m     \u001b[0;32mdef\u001b[0m \u001b[0mdo_executemany\u001b[0m\u001b[0;34m(\u001b[0m\u001b[0mself\u001b[0m\u001b[0;34m,\u001b[0m \u001b[0mcursor\u001b[0m\u001b[0;34m,\u001b[0m \u001b[0mstatement\u001b[0m\u001b[0;34m,\u001b[0m \u001b[0mparameters\u001b[0m\u001b[0;34m,\u001b[0m \u001b[0mcontext\u001b[0m\u001b[0;34m=\u001b[0m\u001b[0;32mNone\u001b[0m\u001b[0;34m)\u001b[0m\u001b[0;34m:\u001b[0m\u001b[0;34m\u001b[0m\u001b[0m\n",
      "\u001b[0;31mModuleNotFoundError\u001b[0m: No module named 'MySQLdb'"
     ]
    }
   ],
   "source": [
    "import pandas as pd\n",
    "import numpy as np\n",
    "from sqlalchemy import create_engine\n",
    "\n",
    "\n",
    "rds_connection_string = \"<root>:<AFg167769>@127.0.0.1/Opioid_db\"\n",
    "engine = create_engine(f'mysql://{rds_connection_string}')\n"
   ]
  },
  {
   "cell_type": "code",
   "execution_count": null,
   "metadata": {},
   "outputs": [],
   "source": [
    "#loading csv file\n",
    "county_data = \"2016_Opioid_County.csv\""
   ]
  },
  {
   "cell_type": "code",
   "execution_count": null,
   "metadata": {},
   "outputs": [],
   "source": [
    "#reading in data\n",
    "county_opioid = pd.read_csv(county_data)"
   ]
  },
  {
   "cell_type": "code",
   "execution_count": null,
   "metadata": {},
   "outputs": [],
   "source": [
    "#sneakpeak \n",
    "#county_opioid"
   ]
  },
  {
   "cell_type": "code",
   "execution_count": null,
   "metadata": {},
   "outputs": [],
   "source": [
    "#cleaning data up to have correct row identified as columns, renaming df as county_df \n",
    "headers = county_opioid.iloc[3]\n",
    "county_df  = pd.DataFrame(county_opioid.values[4:], columns=headers)\n",
    "county_df = county_df.drop(county_df.index[0])\n",
    "county_df = county_df.dropna()\n",
    "county_df = county_df.reset_index()\n",
    "county_df.drop(['index'], axis=1, inplace=True)\n",
    "county_df"
   ]
  },
  {
   "cell_type": "code",
   "execution_count": null,
   "metadata": {},
   "outputs": [],
   "source": [
    "unemployment_data = \"Unemployment_by_county.csv\"\n",
    "unemployment_by_county = pd.read_csv(unemployment_data)\n",
    "#unemployment_by_county "
   ]
  },
  {
   "cell_type": "code",
   "execution_count": null,
   "metadata": {},
   "outputs": [],
   "source": [
    "#selecting correct row to be column names \n",
    "headers = unemployment_by_county.iloc[3]\n",
    "labor_county_df  = pd.DataFrame(unemployment_by_county.values[5:], columns=headers)\n"
   ]
  },
  {
   "cell_type": "code",
   "execution_count": null,
   "metadata": {},
   "outputs": [],
   "source": [
    "labor_county_df.columns = labor_county_df.columns.fillna('nan')\n",
    "labor_county_df.drop('nan', axis = 1, inplace = True)"
   ]
  },
  {
   "cell_type": "code",
   "execution_count": null,
   "metadata": {},
   "outputs": [],
   "source": [
    "labor_county_df.drop('Code', axis= 1, inplace = True) "
   ]
  },
  {
   "cell_type": "code",
   "execution_count": null,
   "metadata": {},
   "outputs": [],
   "source": [
    "#labor_county_df.head() "
   ]
  },
  {
   "cell_type": "code",
   "execution_count": null,
   "metadata": {},
   "outputs": [],
   "source": [
    "#labor_county_df['County Name/State Abbreviation'].str.split(' ', 2, expand=True)"
   ]
  },
  {
   "cell_type": "code",
   "execution_count": null,
   "metadata": {},
   "outputs": [],
   "source": [
    "#getting rid of county\n",
    "labor_county_df['County Name/State Abbreviation'] = labor_county_df['County Name/State Abbreviation'].str.replace('County', '')"
   ]
  },
  {
   "cell_type": "code",
   "execution_count": null,
   "metadata": {},
   "outputs": [],
   "source": [
    "#getting rid of municipio \n",
    "labor_county_df['County Name/State Abbreviation'] = labor_county_df['County Name/State Abbreviation'].str.replace('Municipio', '')"
   ]
  },
  {
   "cell_type": "code",
   "execution_count": null,
   "metadata": {},
   "outputs": [],
   "source": [
    "#labor_county_df"
   ]
  },
  {
   "cell_type": "code",
   "execution_count": null,
   "metadata": {},
   "outputs": [],
   "source": [
    "#getting rid of , \n",
    "state_county = labor_county_df['County Name/State Abbreviation'].str.split(',', 2, expand=True)"
   ]
  },
  {
   "cell_type": "code",
   "execution_count": null,
   "metadata": {},
   "outputs": [],
   "source": [
    "state_county \n",
    "merged_labor_county = pd.merge(state_county, labor_county_df, left_index=True, right_index=True)\n",
    "merged_labor_county = merged_labor_county.drop(['County Name/State Abbreviation'], axis=1)"
   ]
  },
  {
   "cell_type": "code",
   "execution_count": null,
   "metadata": {},
   "outputs": [],
   "source": [
    "merged_labor_county.columns = ['County Name', 'State Abbreviation', 'Year', 'Workforce', 'Employed', 'Unemployed', '(%)'] "
   ]
  },
  {
   "cell_type": "code",
   "execution_count": null,
   "metadata": {},
   "outputs": [],
   "source": [
    "#merged_labor_county"
   ]
  },
  {
   "cell_type": "code",
   "execution_count": null,
   "metadata": {},
   "outputs": [],
   "source": [
    "#making sure whitespace isn't a problem \n",
    "merged_labor_county = merged_labor_county.rename(columns={'County Name': 'County Name'})\n",
    "county_df = county_df.rename(columns={'County Name': 'County Name'})"
   ]
  },
  {
   "cell_type": "code",
   "execution_count": null,
   "metadata": {},
   "outputs": [],
   "source": [
    "#making sure theres no whitespace causing problems \n",
    "merged_labor_county['County Name'] = merged_labor_county['County Name'].str.strip()\n",
    "merged_labor_county['State Abbreviation'] = merged_labor_county['State Abbreviation'].str.strip()\n",
    "county_df['County Name'] = county_df['County Name'].str.strip()\n",
    "county_df['State Abbreviation'] = county_df['State Abbreviation'].str.strip() "
   ]
  },
  {
   "cell_type": "code",
   "execution_count": null,
   "metadata": {},
   "outputs": [],
   "source": [
    "merged_labor_county = merged_labor_county.dropna()\n",
    "#merged_labor_county"
   ]
  },
  {
   "cell_type": "code",
   "execution_count": null,
   "metadata": {},
   "outputs": [],
   "source": [
    "#merging opiate data with unemployment \n",
    "merge = pd.merge(merged_labor_county, county_df, on=[\"County Name\", \"State Abbreviation\"])"
   ]
  },
  {
   "cell_type": "code",
   "execution_count": null,
   "metadata": {},
   "outputs": [],
   "source": [
    "merge"
   ]
  },
  {
   "cell_type": "code",
   "execution_count": null,
   "metadata": {},
   "outputs": [],
   "source": [
    "# dropping unwanted columns \n",
    "merge_clean = merge.drop(['Workforce','Employed','Unemployed','Part D Prescribers','Part D Opioid Prescribers'], axis=1)\n"
   ]
  },
  {
   "cell_type": "code",
   "execution_count": null,
   "metadata": {},
   "outputs": [],
   "source": [
    "#showing merge that is cleaned up \n",
    "merge_clean\n",
    "merge_clean = merge_clean.reset_index(drop=True)\n",
    "merge_clean"
   ]
  },
  {
   "cell_type": "code",
   "execution_count": null,
   "metadata": {},
   "outputs": [],
   "source": [
    "#listed columns to find problem--there was a space after last column before quotation\n",
    "list(merge_clean.columns.values)"
   ]
  },
  {
   "cell_type": "code",
   "execution_count": null,
   "metadata": {},
   "outputs": [],
   "source": [
    "#reording and selecting columns \n",
    "merge_clean = merge_clean[['Year','County Name','State Name','Opioid Claims',\n",
    "                         'Extended Release Opioid Claims','Overall Claims','Opioid Prescribing Rate',\n",
    "                         'Extended Release Opioid Prescribing Rate','Change in Opioid Prescribing Rate',\n",
    "                         'Change in Extended Release Opioid Prescribing Rate ','(%)']] \n",
    "merge_clean.rename(columns={'(%)': 'Rate of Unemployment'}, inplace=True) "
   ]
  },
  {
   "cell_type": "code",
   "execution_count": null,
   "metadata": {},
   "outputs": [],
   "source": [
    "merge_clean"
   ]
  },
  {
   "cell_type": "code",
   "execution_count": null,
   "metadata": {},
   "outputs": [],
   "source": [
    "#group by state, calculate columns \n",
    "#maybe create bins for unemployment rates and groupby unemployment rates"
   ]
  },
  {
   "cell_type": "code",
   "execution_count": null,
   "metadata": {},
   "outputs": [],
   "source": [
    "\n",
    "merge_clean[\"Opioid Claims\"] = merge_clean[\"Opioid Claims\"].str.replace(\",\",\"\").astype(float)\n",
    "merge_clean[\"Extended Release Opioid Claims\"] = merge_clean[\"Extended Release Opioid Claims\"].str.replace(\",\",\"\").astype(float)\n",
    "merge_clean[\"Overall Claims\"] = merge_clean[\"Overall Claims\"].str.replace(\",\",\"\").astype(float)"
   ]
  },
  {
   "cell_type": "code",
   "execution_count": null,
   "metadata": {},
   "outputs": [],
   "source": [
    "merge_clean[\"Rate of Unemployment\"] = pd.to_numeric(merge_clean[\"Rate of Unemployment\"])\n",
    "merge_clean[\"Change in Extended Release Opioid Prescribing Rate \"] = pd.to_numeric(merge_clean[\"Change in Extended Release Opioid Prescribing Rate \"])\n",
    "merge_clean[\"Change in Opioid Prescribing Rate\"] = pd.to_numeric(merge_clean[\"Change in Opioid Prescribing Rate\"])\n",
    "merge_clean[\"Extended Release Opioid Prescribing Rate\"] = pd.to_numeric(merge_clean[\"Extended Release Opioid Prescribing Rate\"])\n",
    "merge_clean[\"Opioid Prescribing Rate\"] = pd.to_numeric(merge_clean[\"Opioid Prescribing Rate\"])\n",
    "merge_clean[\"Overall Claims\"] = pd.to_numeric(merge_clean[\"Overall Claims\"])\n",
    "merge_clean[\"Extended Release Opioid Claims\"] = pd.to_numeric(merge_clean[\"Extended Release Opioid Claims\"])\n",
    "merge_clean[\"Opioid Claims\"] = pd.to_numeric(merge_clean[\"Opioid Claims\"]) "
   ]
  },
  {
   "cell_type": "code",
   "execution_count": null,
   "metadata": {},
   "outputs": [],
   "source": [
    "\n",
    "merge_clean.dtypes"
   ]
  },
  {
   "cell_type": "code",
   "execution_count": null,
   "metadata": {},
   "outputs": [],
   "source": [
    "state_group = merge_clean.groupby('State Name')\n",
    "\n",
    "state_group.count().head(10) "
   ]
  },
  {
   "cell_type": "code",
   "execution_count": null,
   "metadata": {},
   "outputs": [],
   "source": [
    "opioid_claims = state_group['Opioid Claims'].sum() \n",
    "extended_claims = state_group['Extended Release Opioid Claims'].sum()\n",
    "overall_claims = state_group['Overall Claims'].sum()\n",
    "opioid_rate = state_group['Opioid Prescribing Rate'].mean()\n",
    "extended_rate = state_group['Extended Release Opioid Prescribing Rate'].mean() \n",
    "change_rate = state_group['Change in Opioid Prescribing Rate'].mean() \n",
    "extended_rate_change = state_group['Change in Extended Release Opioid Prescribing Rate'].mean()\n",
    "rate_of_unemployment = state_group['Rate of Unemployment'].mean()"
   ]
  },
  {
   "cell_type": "code",
   "execution_count": null,
   "metadata": {},
   "outputs": [],
   "source": [
    "state_group_df = pd.DataFrame({'Opioid Claims': opioid_claims,\n",
    "                                    'Extended Release Opioid Claims': extended_claims,\n",
    "                                    'Overall Claims': overall_claims,\n",
    "                                    'Opioid Prescribing Rate': opioid_rate,\n",
    "                              'Change in Opioid Prescribing Rate': change_rate}) "
   ]
  },
  {
   "cell_type": "code",
   "execution_count": null,
   "metadata": {},
   "outputs": [],
   "source": [
    "state_group_df"
   ]
  },
  {
   "cell_type": "code",
   "execution_count": null,
   "metadata": {},
   "outputs": [],
   "source": [
    "merge_clean.to_sql('County_Opioid__vs_Unemployment_Data', con, if_exists='replace')\n",
    "state_group_df.to_sql('State_Opioid_vs_Unemployment_Data', con, if_exists='replace')"
   ]
  }
 ],
 "metadata": {
  "kernelspec": {
   "display_name": "Python [conda env:anaconda3]",
   "language": "python",
   "name": "conda-env-anaconda3-py"
  },
  "language_info": {
   "codemirror_mode": {
    "name": "ipython",
    "version": 3
   },
   "file_extension": ".py",
   "mimetype": "text/x-python",
   "name": "python",
   "nbconvert_exporter": "python",
   "pygments_lexer": "ipython3",
   "version": "3.6.5"
  }
 },
 "nbformat": 4,
 "nbformat_minor": 2
}
